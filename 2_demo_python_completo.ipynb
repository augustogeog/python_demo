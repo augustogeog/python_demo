{
 "cells": [
  {
   "cell_type": "markdown",
   "metadata": {},
   "source": [
    "# Ferramentas de Ciência de Dados Aplicadas a Diagnósticos Urbanos\n",
    "## Demonstração dos aspectos básicos da linguagem Python"
   ]
  },
  {
   "cell_type": "markdown",
   "metadata": {},
   "source": [
    "Este notebook foi preparado para ser seguido pelos participantes do WorkShop **Ferramentas de Ciência de Dados Aplicadas a Diagnósticos Urbanos**. Os participantes podem seguir as orientações dadas durante a exposição e resolver os problemas propostos nas células de código adiante."
   ]
  },
  {
   "cell_type": "markdown",
   "metadata": {
    "ExecuteTime": {
     "end_time": "2020-11-02T23:56:49.364021Z",
     "start_time": "2020-11-02T23:56:49.354048Z"
    }
   },
   "source": [
    "## Tipos Nativos\n",
    "\n",
    "### Tipos Simples\n",
    "\n",
    "* int\n",
    "* floats\n",
    "* bool\n",
    "* None"
   ]
  },
  {
   "cell_type": "code",
   "execution_count": null,
   "metadata": {
    "ExecuteTime": {
     "end_time": "2020-11-03T13:51:17.047499Z",
     "start_time": "2020-11-03T13:51:17.040518Z"
    }
   },
   "outputs": [],
   "source": [
    "#verificar o tipo de um número inteiro\n",
    "type(1)"
   ]
  },
  {
   "cell_type": "code",
   "execution_count": null,
   "metadata": {
    "ExecuteTime": {
     "end_time": "2020-11-03T13:51:42.493072Z",
     "start_time": "2020-11-03T13:51:42.488054Z"
    }
   },
   "outputs": [],
   "source": [
    "#verificar o tipo de um número decimal\n",
    "type(1.000000)"
   ]
  },
  {
   "cell_type": "code",
   "execution_count": 1,
   "metadata": {
    "ExecuteTime": {
     "end_time": "2020-11-03T13:51:52.048500Z",
     "start_time": "2020-11-03T13:51:52.043514Z"
    }
   },
   "outputs": [
    {
     "data": {
      "text/plain": [
       "True"
      ]
     },
     "execution_count": 1,
     "metadata": {},
     "output_type": "execute_result"
    }
   ],
   "source": [
    "# Valor booleano verdadeiro\n",
    "True"
   ]
  },
  {
   "cell_type": "code",
   "execution_count": 2,
   "metadata": {
    "ExecuteTime": {
     "end_time": "2020-11-03T13:51:54.584454Z",
     "start_time": "2020-11-03T13:51:54.578471Z"
    }
   },
   "outputs": [
    {
     "data": {
      "text/plain": [
       "False"
      ]
     },
     "execution_count": 2,
     "metadata": {},
     "output_type": "execute_result"
    }
   ],
   "source": [
    "# Valor Booleano falso\n",
    "False"
   ]
  },
  {
   "cell_type": "code",
   "execution_count": 5,
   "metadata": {},
   "outputs": [
    {
     "data": {
      "text/plain": [
       "bool"
      ]
     },
     "execution_count": 5,
     "metadata": {},
     "output_type": "execute_result"
    }
   ],
   "source": [
    "# verificar o tipo do valor booleano\n",
    "type(True)"
   ]
  },
  {
   "cell_type": "code",
   "execution_count": 4,
   "metadata": {
    "ExecuteTime": {
     "end_time": "2020-11-03T13:52:19.540636Z",
     "start_time": "2020-11-03T13:52:19.537644Z"
    }
   },
   "outputs": [],
   "source": [
    "# none value\n",
    "None"
   ]
  },
  {
   "cell_type": "code",
   "execution_count": 6,
   "metadata": {},
   "outputs": [
    {
     "data": {
      "text/plain": [
       "NoneType"
      ]
     },
     "execution_count": 6,
     "metadata": {},
     "output_type": "execute_result"
    }
   ],
   "source": [
    "type(None)"
   ]
  },
  {
   "cell_type": "markdown",
   "metadata": {},
   "source": [
    "### Tipos Compostos\n",
    "\n",
    "\n",
    "* str - conjunto imutável de caracteres delimitado por aspas simples ou duplas, cujos elementos são acessíveis por indexação posicional \n",
    "* list - conjunto mutável de quaisquer elementos, delimitado por colchetes, cujos elementos são separados por vírgulas e acessíveis por indexação posicional\n",
    "* tuple - conjunto imutável delimitado por parêntesis, cujos elementos são separados por vírgulas e acessíveis por indexação posicional\n",
    "* dict - conjunto de pares key:value, separados por vírgulas e delimitados por chaves\n",
    "* set - conjunto de valores não duplicáveis, separados por vírgulas e delimitados por chaves"
   ]
  },
  {
   "cell_type": "code",
   "execution_count": 11,
   "metadata": {
    "ExecuteTime": {
     "end_time": "2020-11-03T13:57:01.792707Z",
     "start_time": "2020-11-03T13:57:01.789715Z"
    }
   },
   "outputs": [],
   "source": [
    "# declarar uma variável texto que recebe uma string com os <caracteres aqui é uma string>\n",
    "\n",
    "texto = \"aqui é uma string\""
   ]
  },
  {
   "cell_type": "code",
   "execution_count": 12,
   "metadata": {
    "ExecuteTime": {
     "end_time": "2020-11-03T13:55:14.442346Z",
     "start_time": "2020-11-03T13:55:14.434370Z"
    }
   },
   "outputs": [],
   "source": [
    "# declarar uma lista e atribuí-la a uma variável chamada lista_compras\n",
    "# inserir produtos de mercado nessa lista\n",
    "\n",
    "lista_compras = ['mamão', 'limão', 'café', 'manteiga', 'coco', 'cerveja', 'carne'] "
   ]
  },
  {
   "cell_type": "code",
   "execution_count": 13,
   "metadata": {
    "ExecuteTime": {
     "end_time": "2020-11-03T13:55:23.305921Z",
     "start_time": "2020-11-03T13:55:23.301955Z"
    }
   },
   "outputs": [
    {
     "data": {
      "text/plain": [
       "['mamão', 'limão', 'café', 'manteiga', 'coco', 'cerveja', 'carne']"
      ]
     },
     "execution_count": 13,
     "metadata": {},
     "output_type": "execute_result"
    }
   ],
   "source": [
    "# chamar a variável lista_compras\n",
    "\n",
    "lista_compras"
   ]
  },
  {
   "cell_type": "code",
   "execution_count": 14,
   "metadata": {
    "ExecuteTime": {
     "end_time": "2020-11-03T13:56:36.093535Z",
     "start_time": "2020-11-03T13:56:36.090543Z"
    }
   },
   "outputs": [],
   "source": [
    "# Com o construtor de tuplas, declarar uma tupla a partir da list lista_compras.\n",
    "# Atribuir essa tupla à variável tupla_compras\n",
    "\n",
    "tupla_compras = tuple(lista_compras)"
   ]
  },
  {
   "cell_type": "code",
   "execution_count": 15,
   "metadata": {
    "ExecuteTime": {
     "end_time": "2020-11-03T13:56:36.428879Z",
     "start_time": "2020-11-03T13:56:36.423916Z"
    }
   },
   "outputs": [
    {
     "data": {
      "text/plain": [
       "('mamão', 'limão', 'café', 'manteiga', 'coco', 'cerveja', 'carne')"
      ]
     },
     "execution_count": 15,
     "metadata": {},
     "output_type": "execute_result"
    }
   ],
   "source": [
    "# chamar a variável tupla_compras\n",
    "\n",
    "tupla_compras"
   ]
  },
  {
   "cell_type": "code",
   "execution_count": 21,
   "metadata": {},
   "outputs": [],
   "source": [
    "# faça um conjunto com os seguintes valores janeiro, janeiro, fevereiro, fevereiro, março, março, março\n",
    "# atribua o conjunto à variável set_primeiro_trimestre\n",
    "\n",
    "set_primeiro_trimestre = set(['janeiro', 'janeiro', 'fevereiro', 'fevereiro', 'março', 'março', 'março'])"
   ]
  },
  {
   "cell_type": "code",
   "execution_count": 22,
   "metadata": {},
   "outputs": [
    {
     "name": "stdout",
     "output_type": "stream",
     "text": [
      "{'fevereiro', 'março', 'janeiro'}\n"
     ]
    }
   ],
   "source": [
    "# apresente na tela o conjunto set_primeiro_trimestre\n",
    "\n",
    "print(set_primeiro_trimestre)"
   ]
  },
  {
   "cell_type": "code",
   "execution_count": 26,
   "metadata": {
    "ExecuteTime": {
     "end_time": "2020-11-03T13:57:59.166434Z",
     "start_time": "2020-11-03T13:57:59.162445Z"
    }
   },
   "outputs": [],
   "source": [
    "# criar um dicinário que contenha os três objetos criados anteriorment (strint texto, lista lista_compras e tupla tupla_compras)\n",
    "# atribuir à variável dicionario\n",
    "\n",
    "dicionario = {'texto':texto, 'lista':lista_compras, 'tup':tupla_compras, 'set': set_primeiro_trimestre}"
   ]
  },
  {
   "cell_type": "code",
   "execution_count": 27,
   "metadata": {
    "ExecuteTime": {
     "end_time": "2020-11-03T13:58:05.321340Z",
     "start_time": "2020-11-03T13:58:05.318348Z"
    }
   },
   "outputs": [
    {
     "name": "stdout",
     "output_type": "stream",
     "text": [
      "{'texto': 'aqui é uma string', 'lista': ['mamão', 'limão', 'café', 'manteiga', 'coco', 'cerveja', 'carne'], 'tup': ('mamão', 'limão', 'café', 'manteiga', 'coco', 'cerveja', 'carne'), 'set': {'fevereiro', 'março', 'janeiro'}}\n"
     ]
    }
   ],
   "source": [
    "# apresente na tela o objeto da variável dicionário\n",
    "print(dicionario)"
   ]
  },
  {
   "cell_type": "code",
   "execution_count": 25,
   "metadata": {
    "ExecuteTime": {
     "end_time": "2020-11-03T13:59:38.005254Z",
     "start_time": "2020-11-03T13:59:38.000267Z"
    }
   },
   "outputs": [
    {
     "data": {
      "text/plain": [
       "17"
      ]
     },
     "execution_count": 25,
     "metadata": {},
     "output_type": "execute_result"
    }
   ],
   "source": [
    "# tome o extensão/tamanho do objeto na variável texto\n",
    "len(texto)"
   ]
  },
  {
   "cell_type": "code",
   "execution_count": null,
   "metadata": {},
   "outputs": [],
   "source": [
    "# tome o extensão/tamanho do objeto na variável texto\n",
    "len(texto)"
   ]
  },
  {
   "cell_type": "code",
   "execution_count": null,
   "metadata": {
    "ExecuteTime": {
     "end_time": "2020-11-03T14:00:56.569603Z",
     "start_time": "2020-11-03T14:00:56.563619Z"
    }
   },
   "outputs": [],
   "source": [
    "# faça fatiamentos/slices da string na variável texto\n",
    "\n",
    "texto[-6:]"
   ]
  },
  {
   "cell_type": "code",
   "execution_count": null,
   "metadata": {
    "ExecuteTime": {
     "end_time": "2020-11-03T14:01:23.868895Z",
     "start_time": "2020-11-03T14:01:23.863910Z"
    }
   },
   "outputs": [],
   "source": [
    "# faça o fatiamentos/slices da lista na variável lista_compras\n",
    "\n",
    "lista_compras[:]"
   ]
  },
  {
   "cell_type": "code",
   "execution_count": null,
   "metadata": {
    "ExecuteTime": {
     "end_time": "2020-11-03T14:01:23.868895Z",
     "start_time": "2020-11-03T14:01:23.863910Z"
    }
   },
   "outputs": [],
   "source": [
    "# faça o fatiamentos/slices da tupla na variável tuplas\n",
    "\n",
    "tupla_compras[:]"
   ]
  },
  {
   "cell_type": "code",
   "execution_count": 28,
   "metadata": {
    "ExecuteTime": {
     "end_time": "2020-11-03T14:01:57.902833Z",
     "start_time": "2020-11-03T14:01:57.897830Z"
    }
   },
   "outputs": [
    {
     "data": {
      "text/plain": [
       "'aqui é uma string'"
      ]
     },
     "execution_count": 28,
     "metadata": {},
     "output_type": "execute_result"
    }
   ],
   "source": [
    "# recupere o valor texto do dicionário\n",
    "\n",
    "dicionario['texto']"
   ]
  },
  {
   "cell_type": "code",
   "execution_count": 29,
   "metadata": {
    "ExecuteTime": {
     "end_time": "2020-11-03T14:03:02.498433Z",
     "start_time": "2020-11-03T14:03:02.493444Z"
    }
   },
   "outputs": [
    {
     "data": {
      "text/plain": [
       "'mam'"
      ]
     },
     "execution_count": 29,
     "metadata": {},
     "output_type": "execute_result"
    }
   ],
   "source": [
    "# recupere valores da lista dentor do dicionário\n",
    "\n",
    "dicionario['lista'][0][:3]"
   ]
  },
  {
   "cell_type": "code",
   "execution_count": 32,
   "metadata": {
    "ExecuteTime": {
     "end_time": "2020-11-03T14:02:25.970310Z",
     "start_time": "2020-11-03T14:02:25.964325Z"
    }
   },
   "outputs": [
    {
     "data": {
      "text/plain": [
       "'limão'"
      ]
     },
     "execution_count": 32,
     "metadata": {},
     "output_type": "execute_result"
    }
   ],
   "source": [
    "# recupere valores da tupla dentro do dicionário\n",
    "\n",
    "dicionario['tup'][1]"
   ]
  },
  {
   "cell_type": "markdown",
   "metadata": {},
   "source": [
    "## Operadores\n",
    "### Operadores de Atribuição"
   ]
  },
  {
   "cell_type": "code",
   "execution_count": 33,
   "metadata": {
    "ExecuteTime": {
     "end_time": "2020-11-03T14:05:52.850168Z",
     "start_time": "2020-11-03T14:05:52.846179Z"
    }
   },
   "outputs": [],
   "source": [
    "# atribua uma lista com números de 0 a 100 à variável \"variavel\"\n",
    "\n",
    "variavel = list(range(101))"
   ]
  },
  {
   "cell_type": "markdown",
   "metadata": {},
   "source": [
    "### Operadores Matemáticos\n",
    "\n",
    "```Python\n",
    "+\n",
    "-\n",
    "*\n",
    "/\n",
    "//\n",
    "**\n",
    "%\n",
    "\n",
    "```"
   ]
  },
  {
   "cell_type": "code",
   "execution_count": 135,
   "metadata": {
    "ExecuteTime": {
     "end_time": "2020-11-03T14:07:31.196574Z",
     "start_time": "2020-11-03T14:07:31.191588Z"
    }
   },
   "outputs": [
    {
     "data": {
      "text/plain": [
       "3"
      ]
     },
     "execution_count": 135,
     "metadata": {},
     "output_type": "execute_result"
    }
   ],
   "source": [
    "# adição\n",
    "\n",
    "1 + 2"
   ]
  },
  {
   "cell_type": "code",
   "execution_count": 34,
   "metadata": {
    "ExecuteTime": {
     "end_time": "2020-11-03T14:07:34.391498Z",
     "start_time": "2020-11-03T14:07:34.387477Z"
    }
   },
   "outputs": [
    {
     "data": {
      "text/plain": [
       "1"
      ]
     },
     "execution_count": 34,
     "metadata": {},
     "output_type": "execute_result"
    }
   ],
   "source": [
    "# subtração\n",
    "\n",
    "2 -1"
   ]
  },
  {
   "cell_type": "code",
   "execution_count": 36,
   "metadata": {
    "ExecuteTime": {
     "end_time": "2020-11-03T14:07:46.487245Z",
     "start_time": "2020-11-03T14:07:46.482258Z"
    }
   },
   "outputs": [
    {
     "data": {
      "text/plain": [
       "4"
      ]
     },
     "execution_count": 36,
     "metadata": {},
     "output_type": "execute_result"
    }
   ],
   "source": [
    "# Multiplicação\n",
    "\n",
    "2*2 "
   ]
  },
  {
   "cell_type": "code",
   "execution_count": 37,
   "metadata": {
    "ExecuteTime": {
     "end_time": "2020-11-03T14:07:51.684194Z",
     "start_time": "2020-11-03T14:07:51.679235Z"
    }
   },
   "outputs": [
    {
     "data": {
      "text/plain": [
       "2.5"
      ]
     },
     "execution_count": 37,
     "metadata": {},
     "output_type": "execute_result"
    }
   ],
   "source": [
    "# divisão\n",
    "\n",
    "5 / 2"
   ]
  },
  {
   "cell_type": "code",
   "execution_count": 139,
   "metadata": {
    "ExecuteTime": {
     "end_time": "2020-11-03T14:07:56.044617Z",
     "start_time": "2020-11-03T14:07:56.038627Z"
    }
   },
   "outputs": [
    {
     "data": {
      "text/plain": [
       "2"
      ]
     },
     "execution_count": 139,
     "metadata": {},
     "output_type": "execute_result"
    }
   ],
   "source": [
    "# divisão inteira\n",
    "\n",
    "5 // 2"
   ]
  },
  {
   "cell_type": "code",
   "execution_count": 140,
   "metadata": {
    "ExecuteTime": {
     "end_time": "2020-11-03T14:08:04.418571Z",
     "start_time": "2020-11-03T14:08:04.414581Z"
    }
   },
   "outputs": [
    {
     "data": {
      "text/plain": [
       "1"
      ]
     },
     "execution_count": 140,
     "metadata": {},
     "output_type": "execute_result"
    }
   ],
   "source": [
    "# módulo (resto de uma divisão)\n",
    "\n",
    "5 % 2"
   ]
  },
  {
   "cell_type": "code",
   "execution_count": 38,
   "metadata": {
    "ExecuteTime": {
     "end_time": "2020-11-03T14:08:10.894320Z",
     "start_time": "2020-11-03T14:08:10.890298Z"
    }
   },
   "outputs": [
    {
     "data": {
      "text/plain": [
       "25"
      ]
     },
     "execution_count": 38,
     "metadata": {},
     "output_type": "execute_result"
    }
   ],
   "source": [
    "# potenciação\n",
    "\n",
    "5 ** 2"
   ]
  },
  {
   "cell_type": "markdown",
   "metadata": {},
   "source": [
    "### Operadores de Comparação\n",
    "\n",
    "```Python\n",
    "<\n",
    ">\n",
    ">=\n",
    "<=\n",
    "==\n",
    "!=\n",
    "```"
   ]
  },
  {
   "cell_type": "code",
   "execution_count": 142,
   "metadata": {
    "ExecuteTime": {
     "end_time": "2020-11-03T14:08:34.748101Z",
     "start_time": "2020-11-03T14:08:34.744122Z"
    }
   },
   "outputs": [
    {
     "data": {
      "text/plain": [
       "False"
      ]
     },
     "execution_count": 142,
     "metadata": {},
     "output_type": "execute_result"
    }
   ],
   "source": [
    "# menor que\n",
    "\n",
    "3 < 2"
   ]
  },
  {
   "cell_type": "code",
   "execution_count": 143,
   "metadata": {
    "ExecuteTime": {
     "end_time": "2020-11-03T14:08:40.131082Z",
     "start_time": "2020-11-03T14:08:40.126096Z"
    }
   },
   "outputs": [
    {
     "data": {
      "text/plain": [
       "False"
      ]
     },
     "execution_count": 143,
     "metadata": {},
     "output_type": "execute_result"
    }
   ],
   "source": [
    "# maior que\n",
    "\n",
    "3 > 3"
   ]
  },
  {
   "cell_type": "code",
   "execution_count": 42,
   "metadata": {
    "ExecuteTime": {
     "end_time": "2020-11-03T14:09:12.091249Z",
     "start_time": "2020-11-03T14:09:12.088257Z"
    }
   },
   "outputs": [],
   "source": [
    "# atribuir string a uma variável para pode fazer comparações de igualdade e diferença\n",
    "\n",
    "nome = 'Alexei'"
   ]
  },
  {
   "cell_type": "code",
   "execution_count": 41,
   "metadata": {
    "ExecuteTime": {
     "end_time": "2020-11-03T14:09:38.882217Z",
     "start_time": "2020-11-03T14:09:38.876115Z"
    }
   },
   "outputs": [
    {
     "data": {
      "text/plain": [
       "True"
      ]
     },
     "execution_count": 41,
     "metadata": {},
     "output_type": "execute_result"
    }
   ],
   "source": [
    "# igualdade\n",
    "\n",
    "nome == 'Alexei'"
   ]
  },
  {
   "cell_type": "code",
   "execution_count": 43,
   "metadata": {
    "ExecuteTime": {
     "end_time": "2020-11-03T14:09:50.597434Z",
     "start_time": "2020-11-03T14:09:50.592448Z"
    }
   },
   "outputs": [
    {
     "data": {
      "text/plain": [
       "False"
      ]
     },
     "execution_count": 43,
     "metadata": {},
     "output_type": "execute_result"
    }
   ],
   "source": [
    "# diferença\n",
    "\n",
    "nome != 'Alexei'"
   ]
  },
  {
   "cell_type": "markdown",
   "metadata": {},
   "source": [
    "### Operadores lógicos\n",
    "and\n",
    "\n",
    "or\n",
    "\n",
    "not"
   ]
  },
  {
   "cell_type": "code",
   "execution_count": 49,
   "metadata": {},
   "outputs": [
    {
     "data": {
      "text/plain": [
       "True"
      ]
     },
     "execution_count": 49,
     "metadata": {},
     "output_type": "execute_result"
    }
   ],
   "source": [
    "# faça comparações compostas com and or e not\n",
    "\n",
    "nome == 'Alexei' or 1 > 2"
   ]
  },
  {
   "cell_type": "markdown",
   "metadata": {},
   "source": [
    "## Funções Nativas\n",
    "\n",
    "* print()\n",
    "* len()\n",
    "* help()\n",
    "* id()\n",
    "* input()\n",
    "* sum()\n",
    "* max\n",
    "* min\n",
    "* pow()\n",
    "* range()"
   ]
  },
  {
   "cell_type": "code",
   "execution_count": 155,
   "metadata": {
    "ExecuteTime": {
     "end_time": "2020-11-03T14:11:31.869031Z",
     "start_time": "2020-11-03T14:11:31.864010Z"
    }
   },
   "outputs": [
    {
     "name": "stdout",
     "output_type": "stream",
     "text": [
      "isso aqui é o que aparece para o usuário do seu código na tela dele\n"
     ]
    }
   ],
   "source": [
    "# faça uum texto aparecer para o usuário\n",
    "\n",
    "print('isso aqui é o que aparece para o usuário do seu código na tela dele')"
   ]
  },
  {
   "cell_type": "code",
   "execution_count": 156,
   "metadata": {
    "ExecuteTime": {
     "end_time": "2020-11-03T14:12:00.259177Z",
     "start_time": "2020-11-03T14:12:00.255180Z"
    }
   },
   "outputs": [
    {
     "data": {
      "text/plain": [
       "7"
      ]
     },
     "execution_count": 156,
     "metadata": {},
     "output_type": "execute_result"
    }
   ],
   "source": [
    "# verifique o tamanho da lista_compras\n",
    "\n",
    "len(lista_compras)"
   ]
  },
  {
   "cell_type": "code",
   "execution_count": 157,
   "metadata": {
    "ExecuteTime": {
     "end_time": "2020-11-03T14:12:06.577905Z",
     "start_time": "2020-11-03T14:12:06.572921Z"
    }
   },
   "outputs": [
    {
     "data": {
      "text/plain": [
       "7"
      ]
     },
     "execution_count": 157,
     "metadata": {},
     "output_type": "execute_result"
    }
   ],
   "source": [
    "# verifique o tamanho da tupla_compras\n",
    "\n",
    "len(tupla_compras)"
   ]
  },
  {
   "cell_type": "code",
   "execution_count": 158,
   "metadata": {
    "ExecuteTime": {
     "end_time": "2020-11-03T14:12:12.051852Z",
     "start_time": "2020-11-03T14:12:12.046865Z"
    }
   },
   "outputs": [
    {
     "data": {
      "text/plain": [
       "17"
      ]
     },
     "execution_count": 158,
     "metadata": {},
     "output_type": "execute_result"
    }
   ],
   "source": [
    "# verifique o tamanho da string texto\n",
    "\n",
    "len(texto)"
   ]
  },
  {
   "cell_type": "code",
   "execution_count": 160,
   "metadata": {
    "ExecuteTime": {
     "end_time": "2020-11-03T14:12:52.478385Z",
     "start_time": "2020-11-03T14:12:52.473401Z"
    }
   },
   "outputs": [
    {
     "data": {
      "text/plain": [
       "5050"
      ]
     },
     "execution_count": 160,
     "metadata": {},
     "output_type": "execute_result"
    }
   ],
   "source": [
    "# Faça a soma de todos os valores na lista armazenada na variável variavel\n",
    "\n",
    "sum(variavel)"
   ]
  },
  {
   "cell_type": "code",
   "execution_count": 52,
   "metadata": {
    "ExecuteTime": {
     "end_time": "2020-11-03T14:13:41.367160Z",
     "start_time": "2020-11-03T14:13:41.363170Z"
    }
   },
   "outputs": [
    {
     "name": "stdout",
     "output_type": "stream",
     "text": [
      "Help on built-in function print in module builtins:\n",
      "\n",
      "print(...)\n",
      "    print(value, ..., sep=' ', end='\\n', file=sys.stdout, flush=False)\n",
      "    \n",
      "    Prints the values to a stream, or to sys.stdout by default.\n",
      "    Optional keyword arguments:\n",
      "    file:  a file-like object (stream); defaults to the current sys.stdout.\n",
      "    sep:   string inserted between values, default a space.\n",
      "    end:   string appended after the last value, default a newline.\n",
      "    flush: whether to forcibly flush the stream.\n",
      "\n"
     ]
    }
   ],
   "source": [
    "# verifique a docstring de alguma função inserindo o ponto de interrogação antes de seu nome ou utilizando a função help\n",
    "\n",
    "help(print)"
   ]
  },
  {
   "cell_type": "code",
   "execution_count": 5,
   "metadata": {
    "ExecuteTime": {
     "end_time": "2020-11-03T14:14:20.617649Z",
     "start_time": "2020-11-03T14:14:20.613146Z"
    }
   },
   "outputs": [],
   "source": [
    "# defina a função raise_xy\n",
    "# a função deve receber dois valores (x e y)\n",
    "# ela deve retornar x elevado a y-ésima potência\n",
    "\n",
    "def raise_xy(x, y):\n",
    "    return x ** y"
   ]
  },
  {
   "cell_type": "code",
   "execution_count": 54,
   "metadata": {
    "ExecuteTime": {
     "end_time": "2020-11-03T14:14:30.326040Z",
     "start_time": "2020-11-03T14:14:30.321055Z"
    }
   },
   "outputs": [
    {
     "data": {
      "text/plain": [
       "25"
      ]
     },
     "execution_count": 54,
     "metadata": {},
     "output_type": "execute_result"
    }
   ],
   "source": [
    "raise_xy(x=5, y=2)"
   ]
  },
  {
   "cell_type": "code",
   "execution_count": 2,
   "metadata": {},
   "outputs": [
    {
     "name": "stdout",
     "output_type": "stream",
     "text": [
      "Hello World!\n"
     ]
    }
   ],
   "source": [
    "# atribua a string 'Hello World!' à variável mensagem\n",
    "# apresente na tela o conteúdo da mensagem com a função print\n",
    "\n",
    "mensagem = 'Hello World!'\n",
    "print(mensagem)"
   ]
  },
  {
   "cell_type": "markdown",
   "metadata": {},
   "source": [
    "### Controles de Fluxo e Contexto\n",
    "\n",
    "* if (elif, else)\n",
    "* for\n",
    "* while\n",
    "* pass\n",
    "* break\n",
    "* continue\n",
    "* finally"
   ]
  },
  {
   "cell_type": "code",
   "execution_count": 3,
   "metadata": {
    "ExecuteTime": {
     "end_time": "2020-11-03T14:16:31.629747Z",
     "start_time": "2020-11-03T14:16:31.625757Z"
    }
   },
   "outputs": [],
   "source": [
    "nome = 'Manoela'"
   ]
  },
  {
   "cell_type": "code",
   "execution_count": 7,
   "metadata": {
    "ExecuteTime": {
     "end_time": "2020-11-03T14:16:40.830841Z",
     "start_time": "2020-11-03T14:16:40.825854Z"
    }
   },
   "outputs": [
    {
     "name": "stdout",
     "output_type": "stream",
     "text": [
      "Não sei quem é, talvez seja a Lis. Como ela gosta de matemática, vai aí uma continha\n",
      "32\n"
     ]
    }
   ],
   "source": [
    "#if elif e else\n",
    "\n",
    "if nome == 'Max':\n",
    "    print('esse cara manja de SIG')\n",
    "elif nome == 'Paulo':\n",
    "    print('Eu não confiaria nesse cara')\n",
    "else:\n",
    "    print('Não sei quem é, talvez seja a Lis. Como ela gosta de matemática, vai aí uma continha')\n",
    "    print(raise_xy(2, 5))"
   ]
  },
  {
   "cell_type": "code",
   "execution_count": 176,
   "metadata": {
    "ExecuteTime": {
     "end_time": "2020-11-03T14:18:45.963483Z",
     "start_time": "2020-11-03T14:18:45.960478Z"
    }
   },
   "outputs": [
    {
     "name": "stdout",
     "output_type": "stream",
     "text": [
      "O produto mamão tem como código MAM\n",
      "O produto limão tem como código LIM\n",
      "O produto café tem como código CAF\n",
      "O produto manteiga tem como código MAN\n",
      "O produto coco tem como código COC\n",
      "O produto cerveja tem como código CER\n",
      "O produto carne tem como código CAR\n"
     ]
    }
   ],
   "source": [
    "# Loop que imprime códigos para cada item na lista lista_compras\n",
    "for produto in lista_compras:\n",
    "    print(f'O produto {produto} tem como código {produto[:3].upper()}')"
   ]
  },
  {
   "cell_type": "code",
   "execution_count": null,
   "metadata": {},
   "outputs": [],
   "source": []
  },
  {
   "cell_type": "markdown",
   "metadata": {},
   "source": [
    "## Controle de Exceções\n",
    "\n",
    "* try\n",
    "* except\n",
    "* assert"
   ]
  },
  {
   "cell_type": "code",
   "execution_count": 181,
   "metadata": {
    "ExecuteTime": {
     "end_time": "2020-11-03T14:19:57.343815Z",
     "start_time": "2020-11-03T14:19:57.339843Z"
    }
   },
   "outputs": [],
   "source": [
    "x = 'nome'"
   ]
  },
  {
   "cell_type": "code",
   "execution_count": 182,
   "metadata": {
    "ExecuteTime": {
     "end_time": "2020-11-03T14:19:57.930312Z",
     "start_time": "2020-11-03T14:19:57.926325Z"
    }
   },
   "outputs": [
    {
     "name": "stdout",
     "output_type": "stream",
     "text": [
      "Olha, amigo, acho que alguma coisa deu errada\n"
     ]
    }
   ],
   "source": [
    "try:\n",
    "    print(x ** 2)\n",
    "except:\n",
    "    print('Olha, amigo, acho que alguma coisa deu errada')"
   ]
  },
  {
   "cell_type": "markdown",
   "metadata": {},
   "source": [
    "## Módulos, Pacotes e Bibliotecas"
   ]
  },
  {
   "cell_type": "code",
   "execution_count": 9,
   "metadata": {
    "ExecuteTime": {
     "end_time": "2020-11-03T11:57:51.534127Z",
     "start_time": "2020-11-03T11:57:51.531134Z"
    }
   },
   "outputs": [],
   "source": [
    "import pandas as pd\n",
    "import matplotlib.pyplot as plt"
   ]
  },
  {
   "cell_type": "code",
   "execution_count": 10,
   "metadata": {
    "ExecuteTime": {
     "end_time": "2020-11-03T11:57:51.947803Z",
     "start_time": "2020-11-03T11:57:51.804021Z"
    }
   },
   "outputs": [],
   "source": [
    "df = pd.read_csv('data/fatores_total.csv', encoding='utf-16', sep=';', decimal=',')"
   ]
  },
  {
   "cell_type": "code",
   "execution_count": 11,
   "metadata": {
    "ExecuteTime": {
     "end_time": "2020-11-03T11:57:52.357625Z",
     "start_time": "2020-11-03T11:57:52.338641Z"
    },
    "scrolled": true
   },
   "outputs": [
    {
     "data": {
      "text/html": [
       "<div>\n",
       "<style scoped>\n",
       "    .dataframe tbody tr th:only-of-type {\n",
       "        vertical-align: middle;\n",
       "    }\n",
       "\n",
       "    .dataframe tbody tr th {\n",
       "        vertical-align: top;\n",
       "    }\n",
       "\n",
       "    .dataframe thead th {\n",
       "        text-align: right;\n",
       "    }\n",
       "</style>\n",
       "<table border=\"1\" class=\"dataframe\">\n",
       "  <thead>\n",
       "    <tr style=\"text-align: right;\">\n",
       "      <th></th>\n",
       "      <th>cod_mun</th>\n",
       "      <th>UF</th>\n",
       "      <th>Município</th>\n",
       "      <th>pop2019</th>\n",
       "      <th>pib2017milreais</th>\n",
       "      <th>export_fob_2019</th>\n",
       "      <th>import_fob_2019</th>\n",
       "      <th>pip_per_capita17</th>\n",
       "      <th>hierarquia_urbana07</th>\n",
       "      <th>hierarquia</th>\n",
       "      <th>...</th>\n",
       "      <th>dia3007</th>\n",
       "      <th>dia3107</th>\n",
       "      <th>dia0108</th>\n",
       "      <th>dia0208</th>\n",
       "      <th>dia0308</th>\n",
       "      <th>dia0408</th>\n",
       "      <th>dia0508</th>\n",
       "      <th>dia0608</th>\n",
       "      <th>data_primeiro_caso</th>\n",
       "      <th>dias_contam</th>\n",
       "    </tr>\n",
       "  </thead>\n",
       "  <tbody>\n",
       "    <tr>\n",
       "      <th>0</th>\n",
       "      <td>1100015</td>\n",
       "      <td>RO</td>\n",
       "      <td>Alta Floresta D'Oeste</td>\n",
       "      <td>22945</td>\n",
       "      <td>498864</td>\n",
       "      <td>198695</td>\n",
       "      <td>13294</td>\n",
       "      <td>19610</td>\n",
       "      <td>Centro Local</td>\n",
       "      <td>1</td>\n",
       "      <td>...</td>\n",
       "      <td>293.0</td>\n",
       "      <td>304.0</td>\n",
       "      <td>311.0</td>\n",
       "      <td>322.0</td>\n",
       "      <td>322.0</td>\n",
       "      <td>346.0</td>\n",
       "      <td>346.0</td>\n",
       "      <td>346.0</td>\n",
       "      <td>2020-05-02</td>\n",
       "      <td>68.0</td>\n",
       "    </tr>\n",
       "    <tr>\n",
       "      <th>1</th>\n",
       "      <td>1100023</td>\n",
       "      <td>RO</td>\n",
       "      <td>Ariquemes</td>\n",
       "      <td>107863</td>\n",
       "      <td>2296074</td>\n",
       "      <td>38002769</td>\n",
       "      <td>738809</td>\n",
       "      <td>21390</td>\n",
       "      <td>Centro Subregional B</td>\n",
       "      <td>4</td>\n",
       "      <td>...</td>\n",
       "      <td>2562.0</td>\n",
       "      <td>2627.0</td>\n",
       "      <td>2648.0</td>\n",
       "      <td>2712.0</td>\n",
       "      <td>2758.0</td>\n",
       "      <td>2826.0</td>\n",
       "      <td>2826.0</td>\n",
       "      <td>2826.0</td>\n",
       "      <td>2020-04-10</td>\n",
       "      <td>46.0</td>\n",
       "    </tr>\n",
       "    <tr>\n",
       "      <th>2</th>\n",
       "      <td>1100031</td>\n",
       "      <td>RO</td>\n",
       "      <td>Cabixi</td>\n",
       "      <td>5312</td>\n",
       "      <td>138894</td>\n",
       "      <td>137660</td>\n",
       "      <td>0</td>\n",
       "      <td>22320</td>\n",
       "      <td>Centro Local</td>\n",
       "      <td>1</td>\n",
       "      <td>...</td>\n",
       "      <td>44.0</td>\n",
       "      <td>44.0</td>\n",
       "      <td>45.0</td>\n",
       "      <td>45.0</td>\n",
       "      <td>45.0</td>\n",
       "      <td>51.0</td>\n",
       "      <td>51.0</td>\n",
       "      <td>51.0</td>\n",
       "      <td>2020-05-02</td>\n",
       "      <td>68.0</td>\n",
       "    </tr>\n",
       "    <tr>\n",
       "      <th>3</th>\n",
       "      <td>1100049</td>\n",
       "      <td>RO</td>\n",
       "      <td>Cacoal</td>\n",
       "      <td>85359</td>\n",
       "      <td>2127523</td>\n",
       "      <td>20514957</td>\n",
       "      <td>53854</td>\n",
       "      <td>24040</td>\n",
       "      <td>Centro Subregional B</td>\n",
       "      <td>4</td>\n",
       "      <td>...</td>\n",
       "      <td>747.0</td>\n",
       "      <td>759.0</td>\n",
       "      <td>779.0</td>\n",
       "      <td>788.0</td>\n",
       "      <td>788.0</td>\n",
       "      <td>926.0</td>\n",
       "      <td>926.0</td>\n",
       "      <td>926.0</td>\n",
       "      <td>2020-04-30</td>\n",
       "      <td>66.0</td>\n",
       "    </tr>\n",
       "    <tr>\n",
       "      <th>4</th>\n",
       "      <td>1100056</td>\n",
       "      <td>RO</td>\n",
       "      <td>Cerejeiras</td>\n",
       "      <td>16323</td>\n",
       "      <td>448524</td>\n",
       "      <td>97838806</td>\n",
       "      <td>59259</td>\n",
       "      <td>25010</td>\n",
       "      <td>Centro de Zona B</td>\n",
       "      <td>2</td>\n",
       "      <td>...</td>\n",
       "      <td>100.0</td>\n",
       "      <td>104.0</td>\n",
       "      <td>104.0</td>\n",
       "      <td>104.0</td>\n",
       "      <td>114.0</td>\n",
       "      <td>122.0</td>\n",
       "      <td>122.0</td>\n",
       "      <td>122.0</td>\n",
       "      <td>2020-05-22</td>\n",
       "      <td>88.0</td>\n",
       "    </tr>\n",
       "  </tbody>\n",
       "</table>\n",
       "<p>5 rows × 192 columns</p>\n",
       "</div>"
      ],
      "text/plain": [
       "   cod_mun  UF               Município  pop2019  pib2017milreais  \\\n",
       "0  1100015  RO  Alta Floresta D'Oeste     22945           498864   \n",
       "1  1100023  RO              Ariquemes    107863          2296074   \n",
       "2  1100031  RO                 Cabixi      5312           138894   \n",
       "3  1100049  RO                 Cacoal     85359          2127523   \n",
       "4  1100056  RO             Cerejeiras     16323           448524   \n",
       "\n",
       "   export_fob_2019  import_fob_2019  pip_per_capita17   hierarquia_urbana07  \\\n",
       "0           198695            13294             19610          Centro Local   \n",
       "1         38002769           738809             21390  Centro Subregional B   \n",
       "2           137660                0             22320          Centro Local   \n",
       "3         20514957            53854             24040  Centro Subregional B   \n",
       "4         97838806            59259             25010      Centro de Zona B   \n",
       "\n",
       "   hierarquia  ...  dia3007  dia3107  dia0108  dia0208  dia0308  dia0408  \\\n",
       "0           1  ...    293.0    304.0    311.0    322.0    322.0    346.0   \n",
       "1           4  ...   2562.0   2627.0   2648.0   2712.0   2758.0   2826.0   \n",
       "2           1  ...     44.0     44.0     45.0     45.0     45.0     51.0   \n",
       "3           4  ...    747.0    759.0    779.0    788.0    788.0    926.0   \n",
       "4           2  ...    100.0    104.0    104.0    104.0    114.0    122.0   \n",
       "\n",
       "   dia0508 dia0608 data_primeiro_caso dias_contam  \n",
       "0    346.0   346.0         2020-05-02        68.0  \n",
       "1   2826.0  2826.0         2020-04-10        46.0  \n",
       "2     51.0    51.0         2020-05-02        68.0  \n",
       "3    926.0   926.0         2020-04-30        66.0  \n",
       "4    122.0   122.0         2020-05-22        88.0  \n",
       "\n",
       "[5 rows x 192 columns]"
      ]
     },
     "execution_count": 11,
     "metadata": {},
     "output_type": "execute_result"
    }
   ],
   "source": [
    "df.head()"
   ]
  },
  {
   "cell_type": "code",
   "execution_count": 12,
   "metadata": {
    "ExecuteTime": {
     "end_time": "2020-11-03T11:57:53.023684Z",
     "start_time": "2020-11-03T11:57:52.833155Z"
    }
   },
   "outputs": [
    {
     "data": {
      "image/png": "[encoded data removed]",
      "text/plain": [
       "<Figure size 1440x720 with 1 Axes>"
      ]
     },
     "metadata": {
      "needs_background": "light"
     },
     "output_type": "display_data"
    }
   ],
   "source": [
    "plt.figure(figsize=(20,10))\n",
    "plt.plot(df.iloc[:, 26:190].sum())\n",
    "plt.xticks(list(df.iloc[:, 26:190].sum().index)[::7], rotation=90);"
   ]
  },
  {
   "cell_type": "code",
   "execution_count": 13,
   "metadata": {},
   "outputs": [
    {
     "data": {
      "text/plain": [
       "dia2502          1.0\n",
       "dia2602          1.0\n",
       "dia2702          1.0\n",
       "dia2802          2.0\n",
       "dia2902          2.0\n",
       "             ...    \n",
       "dia0208    2713676.0\n",
       "dia0308    2738007.0\n",
       "dia0408    2786542.0\n",
       "dia0508    2832697.0\n",
       "dia0608    2861592.0\n",
       "Length: 164, dtype: float64"
      ]
     },
     "execution_count": 13,
     "metadata": {},
     "output_type": "execute_result"
    }
   ],
   "source": [
    "df.iloc[:, 26:190].sum()"
   ]
  }
 ],
 "metadata": {
  "kernelspec": {
   "display_name": "aulas",
   "language": "python",
   "name": "aulas"
  },
  "language_info": {
   "codemirror_mode": {
    "name": "ipython",
    "version": 3
   },
   "file_extension": ".py",
   "mimetype": "text/x-python",
   "name": "python",
   "nbconvert_exporter": "python",
   "pygments_lexer": "ipython3",
   "version": "3.6.10"
  },
  "toc": {
   "base_numbering": 1,
   "nav_menu": {},
   "number_sections": true,
   "sideBar": true,
   "skip_h1_title": true,
   "title_cell": "Table of Contents",
   "title_sidebar": "Contents",
   "toc_cell": false,
   "toc_position": {
    "height": "calc(100% - 180px)",
    "left": "10px",
    "top": "150px",
    "width": "165px"
   },
   "toc_section_display": true,
   "toc_window_display": false
  }
 },
 "nbformat": 4,
 "nbformat_minor": 4
}
